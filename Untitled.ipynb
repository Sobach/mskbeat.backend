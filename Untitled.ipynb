{
 "cells": [
  {
   "cell_type": "code",
   "execution_count": 104,
   "metadata": {
    "collapsed": false
   },
   "outputs": [
    {
     "name": "stdout",
     "output_type": "stream",
     "text": [
      "Emulating: (-) Complete: 100.0% Messages: 3847/3847\n"
     ]
    }
   ],
   "source": [
    "from settings import *\n",
    "from redis import StrictRedis\n",
    "from PySQLPool import getNewPool, getNewConnection\n",
    "from detector import CollectorEmulator, exec_mysql\n",
    "\n",
    "redis_db = StrictRedis(host=REDIS_HOST, port=REDIS_PORT, db=REDIS_DB)\n",
    "getNewPool().maxActiveConnections = 1\n",
    "mysql_db = getNewConnection(username=MYSQL_USER, password=MYSQL_PASSWORD, host=MYSQL_HOST, db=MYSQL_DB)\n",
    "exec_mysql('SET NAMES utf8mb4;', mysql_db)\n",
    "exec_mysql('SET CHARACTER SET utf8mb4;', mysql_db)\n",
    "exec_mysql('SET character_set_connection=utf8mb4;', mysql_db)\n",
    "\n",
    "emulator = CollectorEmulator(mysql_db, redis_db, fast_forward_ratio=60, start_timeout=10)"
   ]
  },
  {
   "cell_type": "code",
   "execution_count": 105,
   "metadata": {
    "collapsed": false
   },
   "outputs": [],
   "source": [
    "import json\n",
    "f = open('slice_clusters.json', 'r')"
   ]
  },
  {
   "cell_type": "code",
   "execution_count": 106,
   "metadata": {
    "collapsed": false
   },
   "outputs": [],
   "source": [
    "data = json.loads(f.read())\n",
    "f.close()"
   ]
  },
  {
   "cell_type": "code",
   "execution_count": 109,
   "metadata": {
    "collapsed": false
   },
   "outputs": [
    {
     "name": "stdout",
     "output_type": "stream",
     "text": [
      "[0, 0, 0, 1, 2, 3, 4, 7, 8, 11, 12, 17, 17]\n",
      "[[u'1019608548630230691_1095740924', u'1019610086530512586_1095740924', u'1019609937112626885_1095740924', u'1019608353234384536_1095740924', u'1019608171344197264_1095740924'], [u'1019605117457130611_545688320', u'1019612725722212724_395327297', u'616217680882876417', u'616218616279666688', u'1019610461602920715_1430626869', u'1019608735723907410_186748417']]\n"
     ]
    }
   ],
   "source": [
    "print [len(x) for x in data]\n",
    "print data[4]"
   ]
  },
  {
   "cell_type": "code",
   "execution_count": 141,
   "metadata": {
    "collapsed": false
   },
   "outputs": [],
   "source": [
    "import networkx as nx\n",
    "G = nx.DiGraph()"
   ]
  },
  {
   "cell_type": "code",
   "execution_count": 142,
   "metadata": {
    "collapsed": false
   },
   "outputs": [],
   "source": [
    "import md5\n",
    "nodes = []\n",
    "i = 0\n",
    "for sl in data:\n",
    "    #print [md5.new(str(set(cluster))).hexdigest() for cluster in sl]\n",
    "    for cluster in sl:\n",
    "        G.add_node(md5.new(str(i)+'_'+str(set(cluster))).hexdigest(), step=i)\n",
    "    i += 1"
   ]
  },
  {
   "cell_type": "code",
   "execution_count": 143,
   "metadata": {
    "collapsed": false
   },
   "outputs": [],
   "source": [
    "for i in range(len(data) - 1):\n",
    "    current_clusters = [set(x) for x in data[i+1]]\n",
    "    previous_clusters = [set(x) for x in data[i]]\n",
    "    for cluster in current_clusters:\n",
    "        for prev_clu in previous_clusters:\n",
    "            if len(cluster.intersection(prev_clu)) > 0:\n",
    "                G.add_edge(md5.new(str(i+1)+'_'+str(cluster)).hexdigest(), md5.new(str(i)+'_'+str(prev_clu)).hexdigest(), weight = len(cluster.intersection(prev_clu)))\n",
    "                #print i+1, md5.new(str(cluster)).hexdigest(), md5.new(str(prev_clu)).hexdigest(), len(cluster.intersection(prev_clu))"
   ]
  },
  {
   "cell_type": "code",
   "execution_count": 145,
   "metadata": {
    "collapsed": false
   },
   "outputs": [],
   "source": [
    "nx.write_gexf(G, \"slice_clusters.gexf\")"
   ]
  },
  {
   "cell_type": "code",
   "execution_count": 2,
   "metadata": {
    "collapsed": false
   },
   "outputs": [
    {
     "data": {
      "text/plain": [
       "3"
      ]
     },
     "execution_count": 2,
     "metadata": {},
     "output_type": "execute_result"
    }
   ],
   "source": [
    "int(3.6)"
   ]
  }
 ],
 "metadata": {
  "kernelspec": {
   "display_name": "Python 2",
   "language": "python",
   "name": "python2"
  },
  "language_info": {
   "codemirror_mode": {
    "name": "ipython",
    "version": 2
   },
   "file_extension": ".py",
   "mimetype": "text/x-python",
   "name": "python",
   "nbconvert_exporter": "python",
   "pygments_lexer": "ipython2",
   "version": "2.7.10"
  }
 },
 "nbformat": 4,
 "nbformat_minor": 0
}
