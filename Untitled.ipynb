{
 "cells": [
  {
   "cell_type": "code",
   "execution_count": null,
   "metadata": {
    "collapsed": true
   },
   "outputs": [],
   "source": [
    "import shapely\n",
    "import csv\n",
    "import pprint\n",
    "from shapely.geometry import Polygon, shape\n",
    "from shapely.ops import cascaded_union\n",
    "import json\n",
    "from shapely.geometry import mapping"
   ]
  },
  {
   "cell_type": "code",
   "execution_count": null,
   "metadata": {
    "collapsed": false
   },
   "outputs": [],
   "source": [
    "f = open('msk.geojson', 'rb')\n",
    "b = shape(json.load(f))\n",
    "f.close()"
   ]
  },
  {
   "cell_type": "code",
   "execution_count": null,
   "metadata": {
    "collapsed": false
   },
   "outputs": [],
   "source": [
    "b"
   ]
  },
  {
   "cell_type": "code",
   "execution_count": null,
   "metadata": {
    "collapsed": false
   },
   "outputs": [],
   "source": [
    "b.bounds"
   ]
  },
  {
   "cell_type": "code",
   "execution_count": 11,
   "metadata": {
    "collapsed": false
   },
   "outputs": [],
   "source": [
    "def drange(start, stop, step):\n",
    "    r = start\n",
    "    while r <= stop+step:\n",
    "        yield r\n",
    "        r += step\n",
    "\n",
    "def get_circles_centers(bbox, radius=5000, polygons=None):\n",
    "    from math import radians, cos\n",
    "    from itertools import product\n",
    "    lat = radians(max([abs(bbox[1]), abs(bbox[3])]))\n",
    "    # Calculate the length of a degree of latitude and longitude in meters\n",
    "    latlen = 111132.92 - (559.82 * cos(2 * lat)) + (1.175 * cos(4 * lat)) + (-0.0023 * cos(6 * lat))\n",
    "    longlen = (111412.84 * cos(lat)) - (93.5 * cos(3 * lat)) + (0.118 * cos(5 * lat))\n",
    "    radius_x = radius/longlen\n",
    "    radius_y = radius/latlen\n",
    "    x_marks = [x for x in drange(bbox[0], bbox[2], radius_x)]\n",
    "    y_marks = [y for y in drange(bbox[1], bbox[3], radius_y)]\n",
    "    centers = [x for x in product(x_marks[0::2], y_marks[0::2])] + [x for x in product(x_marks[1::2], y_marks[1::2])]\n",
    "    print len(centers)\n",
    "    if polygons:\n",
    "        cleaned_centers = []\n",
    "        from shapely.geometry import Point\n",
    "        from shapely.affinity import scale\n",
    "        for center in centers:\n",
    "            circle = scale(Point(center[0], center[1]).buffer(1), xfact=radius_x, yfact=radius_y)\n",
    "            if polygons.intersects(circle):\n",
    "                cleaned_centers.append(center)\n",
    "        centers = cleaned_centers\n",
    "    print len(centers)\n",
    "    return centers"
   ]
  },
  {
   "cell_type": "code",
   "execution_count": 12,
   "metadata": {
    "collapsed": false
   },
   "outputs": [],
   "source": [
    "def get_locations(bfile = None, bbox = None, filter_centers = True):\n",
    "    if not bfile and not bbox:\n",
    "        raise BaseException('Neither bounds geojson file, nor bounding box are specified.')\n",
    "    if bfile:\n",
    "        from json import load\n",
    "        from shapely.geometry import shape\n",
    "        with open(bfile, 'rb') as f:\n",
    "            BOUNDS = shape(load(f))\n",
    "        BBOX = list(BOUNDS.bounds)\n",
    "    else:\n",
    "        from shapely.geometry import Polygon\n",
    "        BBOX = bbox\n",
    "        BOUNDS = Polygon([(BBOX[0], BBOX[1]), (BBOX[0], BBOX[3]), (BBOX[2], BBOX[3]), (BBOX[2], BBOX[1]), (BBOX[0], BBOX[1])])\n",
    "    if filter_centers:\n",
    "        polys = BOUNDS\n",
    "    else:\n",
    "        polys = None\n",
    "    TW_LOCATIONS = ','.join([str(x) for x in BBOX])\n",
    "    VK_LOCATIONS = get_circles_centers(BBOX, radius=4000, polygons=polys)\n",
    "    IG_LOCATIONS = get_circles_centers(BBOX, radius=5000, polygons=polys)\n",
    "    return BOUNDS, BBOX, TW_LOCATIONS, VK_LOCATIONS, IG_LOCATIONS"
   ]
  },
  {
   "cell_type": "code",
   "execution_count": 18,
   "metadata": {
    "collapsed": false
   },
   "outputs": [],
   "source": [
    "from shapely.geometry import Polygon, Point"
   ]
  },
  {
   "cell_type": "code",
   "execution_count": 25,
   "metadata": {
    "collapsed": false
   },
   "outputs": [
    {
     "name": "stdout",
     "output_type": "stream",
     "text": [
      "0\n",
      "1\n",
      "2\n",
      "3\n",
      "5\n",
      "6\n",
      "7\n",
      "8\n",
      "9\n"
     ]
    }
   ],
   "source": [
    "for i in range(10):\n",
    "    if i==4:\n",
    "        continue\n",
    "    print i"
   ]
  },
  {
   "cell_type": "code",
   "execution_count": null,
   "metadata": {
    "collapsed": true
   },
   "outputs": [],
   "source": []
  }
 ],
 "metadata": {
  "kernelspec": {
   "display_name": "Python 2",
   "language": "python",
   "name": "python2"
  },
  "language_info": {
   "codemirror_mode": {
    "name": "ipython",
    "version": 2
   },
   "file_extension": ".py",
   "mimetype": "text/x-python",
   "name": "python",
   "nbconvert_exporter": "python",
   "pygments_lexer": "ipython2",
   "version": "2.7.10"
  }
 },
 "nbformat": 4,
 "nbformat_minor": 0
}
