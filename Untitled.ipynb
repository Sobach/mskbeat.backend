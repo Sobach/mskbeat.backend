{
 "cells": [
  {
   "cell_type": "code",
   "execution_count": 1,
   "metadata": {
    "collapsed": true
   },
   "outputs": [],
   "source": [
    "from itertools import groupby"
   ]
  },
  {
   "cell_type": "code",
   "execution_count": 2,
   "metadata": {
    "collapsed": true
   },
   "outputs": [],
   "source": [
    "a = [{'net':0, 'm':1}, {'net':1, 'm':2}, {'net':0, 'm':3}, {'net':1, 'm':4}, {'net':0, 'm':5}, {'net':0, 'm':6}, {'net':0, 'm':7}]"
   ]
  },
  {
   "cell_type": "code",
   "execution_count": 14,
   "metadata": {
    "collapsed": false
   },
   "outputs": [],
   "source": [
    "b = {x[0]:[y for y in x[1]] for x in groupby(sorted(a, key=lambda x:x['net']), lambda x:x['net'])}"
   ]
  },
  {
   "cell_type": "code",
   "execution_count": 7,
   "metadata": {
    "collapsed": false
   },
   "outputs": [
    {
     "data": {
      "text/plain": [
       "'\\x80\\x02cdill.dill\\n_create_function\\nq\\x00(cdill.dill\\n_unmarshal\\nq\\x01Uxc\\x01\\x00\\x00\\x00\\x01\\x00\\x00\\x00\\x01\\x00\\x00\\x00C\\x00\\x00\\x00s\\x04\\x00\\x00\\x00d\\x01\\x00S(\\x02\\x00\\x00\\x00Ni\\x05\\x00\\x00\\x00(\\x00\\x00\\x00\\x00(\\x01\\x00\\x00\\x00t\\x01\\x00\\x00\\x00x(\\x00\\x00\\x00\\x00(\\x00\\x00\\x00\\x00s\\x1e\\x00\\x00\\x00<ipython-input-7-6d76641c7dda>t\\x08\\x00\\x00\\x00<lambda>\\x02\\x00\\x00\\x00s\\x00\\x00\\x00\\x00q\\x02\\x85q\\x03Rq\\x04c__builtin__\\n__main__\\nU\\x08<lambda>q\\x05NN}q\\x06tq\\x07Rq\\x08.'"
      ]
     },
     "execution_count": 7,
     "metadata": {},
     "output_type": "execute_result"
    }
   ],
   "source": [
    "import dill\n",
    "dill.dumps(lambda x:5)"
   ]
  }
 ],
 "metadata": {
  "kernelspec": {
   "display_name": "Python 2",
   "language": "python",
   "name": "python2"
  },
  "language_info": {
   "codemirror_mode": {
    "name": "ipython",
    "version": 2
   },
   "file_extension": ".py",
   "mimetype": "text/x-python",
   "name": "python",
   "nbconvert_exporter": "python",
   "pygments_lexer": "ipython2",
   "version": "2.7.10"
  }
 },
 "nbformat": 4,
 "nbformat_minor": 0
}
