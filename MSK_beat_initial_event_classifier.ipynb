{
 "metadata": {
  "name": "",
  "signature": "sha256:56181c5cb73fb800d363d4065aa7f71df164c23c4dc9a798112fb33d28df357c"
 },
 "nbformat": 3,
 "nbformat_minor": 0,
 "worksheets": [
  {
   "cells": [
    {
     "cell_type": "code",
     "collapsed": false,
     "input": [
      "import pickle"
     ],
     "language": "python",
     "metadata": {},
     "outputs": [],
     "prompt_number": 21
    },
    {
     "cell_type": "code",
     "collapsed": false,
     "input": [
      "f = open(\"event_candidates_rich.pkl\", \"rb\")"
     ],
     "language": "python",
     "metadata": {},
     "outputs": [],
     "prompt_number": 22
    },
    {
     "cell_type": "code",
     "collapsed": false,
     "input": [
      "data = pickle.load(f)"
     ],
     "language": "python",
     "metadata": {},
     "outputs": [],
     "prompt_number": 23
    },
    {
     "cell_type": "code",
     "collapsed": false,
     "input": [
      "f.close()"
     ],
     "language": "python",
     "metadata": {},
     "outputs": [],
     "prompt_number": 24
    },
    {
     "cell_type": "code",
     "collapsed": false,
     "input": [
      "import pprint"
     ],
     "language": "python",
     "metadata": {},
     "outputs": [],
     "prompt_number": 25
    },
    {
     "cell_type": "code",
     "collapsed": false,
     "input": [
      "def print_txts(event):\n",
      "    print 'Total messages: {}'.format(len(event['messages']))\n",
      "    event['messages'] = sorted(event['messages'], key=lambda x:x['text_weight'], reverse=True)\n",
      "    for msg in event['messages']:\n",
      "        print msg['user'], ': ', msg['text']"
     ],
     "language": "python",
     "metadata": {},
     "outputs": [],
     "prompt_number": 26
    },
    {
     "cell_type": "code",
     "collapsed": false,
     "input": [
      "for event in data.values():\n",
      "    event['is_event'] = False"
     ],
     "language": "python",
     "metadata": {},
     "outputs": [],
     "prompt_number": 27
    },
    {
     "cell_type": "code",
     "collapsed": false,
     "input": [
      "data = sorted(data.values(), key=lambda x:len(x['messages']), reverse=True)"
     ],
     "language": "python",
     "metadata": {},
     "outputs": [],
     "prompt_number": 28
    },
    {
     "cell_type": "code",
     "collapsed": false,
     "input": [
      "f = open(\"golden_standart_events.pkl\", \"rb\")"
     ],
     "language": "python",
     "metadata": {},
     "outputs": [],
     "prompt_number": 19
    },
    {
     "cell_type": "code",
     "collapsed": false,
     "input": [
      "data = pickle.load(f)"
     ],
     "language": "python",
     "metadata": {},
     "outputs": [
      {
       "ename": "EOFError",
       "evalue": "",
       "output_type": "pyerr",
       "traceback": [
        "\u001b[0;31m---------------------------------------------------------------------------\u001b[0m\n\u001b[0;31mEOFError\u001b[0m                                  Traceback (most recent call last)",
        "\u001b[0;32m<ipython-input-20-a418b393695b>\u001b[0m in \u001b[0;36m<module>\u001b[0;34m()\u001b[0m\n\u001b[0;32m----> 1\u001b[0;31m \u001b[0mdata\u001b[0m \u001b[0;34m=\u001b[0m \u001b[0mpickle\u001b[0m\u001b[0;34m.\u001b[0m\u001b[0mload\u001b[0m\u001b[0;34m(\u001b[0m\u001b[0mf\u001b[0m\u001b[0;34m)\u001b[0m\u001b[0;34m\u001b[0m\u001b[0m\n\u001b[0m",
        "\u001b[0;32m/System/Library/Frameworks/Python.framework/Versions/2.7/lib/python2.7/pickle.pyc\u001b[0m in \u001b[0;36mload\u001b[0;34m(file)\u001b[0m\n\u001b[1;32m   1376\u001b[0m \u001b[0;34m\u001b[0m\u001b[0m\n\u001b[1;32m   1377\u001b[0m \u001b[0;32mdef\u001b[0m \u001b[0mload\u001b[0m\u001b[0;34m(\u001b[0m\u001b[0mfile\u001b[0m\u001b[0;34m)\u001b[0m\u001b[0;34m:\u001b[0m\u001b[0;34m\u001b[0m\u001b[0m\n\u001b[0;32m-> 1378\u001b[0;31m     \u001b[0;32mreturn\u001b[0m \u001b[0mUnpickler\u001b[0m\u001b[0;34m(\u001b[0m\u001b[0mfile\u001b[0m\u001b[0;34m)\u001b[0m\u001b[0;34m.\u001b[0m\u001b[0mload\u001b[0m\u001b[0;34m(\u001b[0m\u001b[0;34m)\u001b[0m\u001b[0;34m\u001b[0m\u001b[0m\n\u001b[0m\u001b[1;32m   1379\u001b[0m \u001b[0;34m\u001b[0m\u001b[0m\n\u001b[1;32m   1380\u001b[0m \u001b[0;32mdef\u001b[0m \u001b[0mloads\u001b[0m\u001b[0;34m(\u001b[0m\u001b[0mstr\u001b[0m\u001b[0;34m)\u001b[0m\u001b[0;34m:\u001b[0m\u001b[0;34m\u001b[0m\u001b[0m\n",
        "\u001b[0;32m/System/Library/Frameworks/Python.framework/Versions/2.7/lib/python2.7/pickle.pyc\u001b[0m in \u001b[0;36mload\u001b[0;34m(self)\u001b[0m\n\u001b[1;32m    856\u001b[0m             \u001b[0;32mwhile\u001b[0m \u001b[0;36m1\u001b[0m\u001b[0;34m:\u001b[0m\u001b[0;34m\u001b[0m\u001b[0m\n\u001b[1;32m    857\u001b[0m                 \u001b[0mkey\u001b[0m \u001b[0;34m=\u001b[0m \u001b[0mread\u001b[0m\u001b[0;34m(\u001b[0m\u001b[0;36m1\u001b[0m\u001b[0;34m)\u001b[0m\u001b[0;34m\u001b[0m\u001b[0m\n\u001b[0;32m--> 858\u001b[0;31m                 \u001b[0mdispatch\u001b[0m\u001b[0;34m[\u001b[0m\u001b[0mkey\u001b[0m\u001b[0;34m]\u001b[0m\u001b[0;34m(\u001b[0m\u001b[0mself\u001b[0m\u001b[0;34m)\u001b[0m\u001b[0;34m\u001b[0m\u001b[0m\n\u001b[0m\u001b[1;32m    859\u001b[0m         \u001b[0;32mexcept\u001b[0m \u001b[0m_Stop\u001b[0m\u001b[0;34m,\u001b[0m \u001b[0mstopinst\u001b[0m\u001b[0;34m:\u001b[0m\u001b[0;34m\u001b[0m\u001b[0m\n\u001b[1;32m    860\u001b[0m             \u001b[0;32mreturn\u001b[0m \u001b[0mstopinst\u001b[0m\u001b[0;34m.\u001b[0m\u001b[0mvalue\u001b[0m\u001b[0;34m\u001b[0m\u001b[0m\n",
        "\u001b[0;32m/System/Library/Frameworks/Python.framework/Versions/2.7/lib/python2.7/pickle.pyc\u001b[0m in \u001b[0;36mload_eof\u001b[0;34m(self)\u001b[0m\n\u001b[1;32m    878\u001b[0m \u001b[0;34m\u001b[0m\u001b[0m\n\u001b[1;32m    879\u001b[0m     \u001b[0;32mdef\u001b[0m \u001b[0mload_eof\u001b[0m\u001b[0;34m(\u001b[0m\u001b[0mself\u001b[0m\u001b[0;34m)\u001b[0m\u001b[0;34m:\u001b[0m\u001b[0;34m\u001b[0m\u001b[0m\n\u001b[0;32m--> 880\u001b[0;31m         \u001b[0;32mraise\u001b[0m \u001b[0mEOFError\u001b[0m\u001b[0;34m\u001b[0m\u001b[0m\n\u001b[0m\u001b[1;32m    881\u001b[0m     \u001b[0mdispatch\u001b[0m\u001b[0;34m[\u001b[0m\u001b[0;34m''\u001b[0m\u001b[0;34m]\u001b[0m \u001b[0;34m=\u001b[0m \u001b[0mload_eof\u001b[0m\u001b[0;34m\u001b[0m\u001b[0m\n\u001b[1;32m    882\u001b[0m \u001b[0;34m\u001b[0m\u001b[0m\n",
        "\u001b[0;31mEOFError\u001b[0m: "
       ]
      }
     ],
     "prompt_number": 20
    },
    {
     "cell_type": "code",
     "collapsed": false,
     "input": [
      "f.close()"
     ],
     "language": "python",
     "metadata": {},
     "outputs": [],
     "prompt_number": 14
    },
    {
     "cell_type": "heading",
     "level": 4,
     "metadata": {},
     "source": [
      "300 \u043f\u0440\u043e\u0441\u043c\u043e\u0442\u0440\u0435\u043d\u043e"
     ]
    },
    {
     "cell_type": "code",
     "collapsed": false,
     "input": [
      "print_txts(data[300])"
     ],
     "language": "python",
     "metadata": {},
     "outputs": [
      {
       "output_type": "stream",
       "stream": "stdout",
       "text": [
        "Total messages: 18\n",
        "637348579 :  \u0413\u043e\u0434 \u0441\u043f\u0443\u0441\u0442\u044f \u044d\u0442\u0430 \u043f\u0435\u0441\u043d\u044f \u0437\u0430\u0441\u0442\u0430\u0432\u043b\u044f\u0435\u0442 \u043c\u0435\u043d\u044f \u0440\u044b\u0434\u0430\u0442\u044c... \u041d\u043e \u0443\u0436\u0435 \u043e\u0442 \u0441\u0447\u0430\u0441\u0442\u044c\u044f, \u0447\u0442\u043e \u0432\u0441\u0442\u0440\u0435\u0442\u0438\u043b\u0430 \u0435\u0433\u043e... ??\u2764\ufe0f?\u2728? @l_one_mars #\u043e\u043a\u0435\u0430\u043d\n",
        "\n",
        "Love u... Miss u... @_tincha_ @rugby_player_7 \u2764\ufe0f?\n",
        "257152167 :  #We#areLOUD#LIKE#LOVE??????????Moscow , Placebo, Gorky Park??????????#\n",
        "257263520 :  I can't feel my face when I'm with you\n",
        "But I love it, but I love it ?\n",
        "509349225 :  \u041c\u043e\u0440\u0435 \u044d\u043c\u043e\u0446\u0438\u0439???\n",
        "\u0421\u043f\u0430\u0441\u0438\u0431\u043e@l_one_mars \u0438 @nelmoscow  \u0437\u0430 \u043d\u0435\u0440\u0435\u0430\u043b\u044c\u043d\u0443\u044e \u0430\u0442\u043c\u043e\u0441\u0444\u0435\u0440\u0443??\n",
        "647390458 :  \u0421\u043f\u0430\u0441\u0438\u0431\u043e \u0437\u0430 \u0440\u043e\u043c\u0430\u043d\u0442\u0438\u0447\u0435\u0441\u043a\u043e\u0435 \u0441\u0432\u0438\u0434\u0430\u043d\u0438\u0435 ?... \u042d\u0442\u043e \u0431\u044b\u043b\u043e \u043d\u0435\u0437\u0430\u0431\u044b\u0432\u0430\u0435\u043c\u043e! #\u043c\u0443\u0436\u0437\u043d\u0430\u0435\u0442\u043a\u0430\u043a\u043f\u043e\u0440\u0430\u0434\u043e\u0432\u0430\u0442\u044c #\u0443\u0434\u0438\u0432\u0438\u043b #\u0432\u043e\u0442\u0447\u0435\u0433\u043e\u043c\u043d\u0435\u043d\u0435\u0445\u0432\u0430\u0442\u0430\u043b\u043e #\u043d\u043e\u0447\u043d\u044b\u0435\u0440\u0430\u0434\u043e\u0441\u0442\u0438\n",
        "561656141 :  \u041a\u043e\u0433\u0434\u0430 \u0442\u044b \u0441 \u0431\u0440\u0430\u0442\u043e\u043c \u043f\u0440\u043e\u0431\u0440\u0430\u043b\u0441\u044f \u0434\u0430\u0436\u0435 \u0432 \u0441\u0430\u043c\u044b\u0435 \u043f\u043e\u0442\u0435\u043c\u043a\u0438?? @berikov__ #lone\n",
        "2037208620 :  \u041c\u043e\u043b\u043e\u0434\u044b\u0435 \u0438 \u043a\u0440\u0430\u0441\u0438\u0432\u044b\u0435?\n",
        "#\u0431\u0430\u043d\u0434\u0430#\u043c\u0430\u0442\u0435\u0440\u044b\u0435#\u043b\u0443\u0447\u0448\u0438\u0435\u0442\u0443\u0441\u043e\u0432\u043a\u0438\u0432\u0441\u0435\u0433\u0434\u0430\u0441\u043f\u043e\u043d\u0442\u0430\u043d\u043d\u044b\u0435#\u0431\u0430\u0440\u0430\u0448#placebo#\u0436\u0430\u0440\u0430\n",
        "408934722 :  \u0421\u0430\u043c\u044b\u0439 \u043b\u0443\u0447\u0448\u0438\u0439 @l_one_mars \u2764\n",
        "408934722 :  \u041c\u0430\u0430\u0430\u0440\u0441 \u2764 @nelmoscow, @l_one_mars \u2764\n",
        "1639658440 :  \u0421\u043f\u0430\u0441\u0438\u0438\u0438\u0438\u0431\u043e\u043e\u043e\u043e))) no no no no thank youuuu))) #gorkypark #placebo #soulmates #twentyyears\n",
        "1639658440 :  #stefanolsdal #placebo #twentyyears #soulmates #gorkypark #moscow\n",
        "271069247 :  stay with us for another 20 years \u2728 #placebo\n",
        "509349225 :  #Nel#LOne#Marselle#\u0441\u043b\u043e\u0432\u043d\u043e8\u043b\u0435\u0442\u043d\u0430\u0437\u0430\u0434#\u043c\u0430\u0440\u0441\n",
        "1796572177 :  ?Gorky Park\u26f2\ufe0f #gorkypark#walk#sunnyday\n",
        "509349225 :  ???\n",
        "#\u043f\u043e\u043c\u043d\u0438\u043c\u0435\u043d\u044f #LOne #\u0442\u0432\u043e\u0438\u043b\u044e\u0434\u0438\u0441\u0442\u043e\u0431\u043e\u0439\n",
        "728450933 :  #Lone#\u0413\u0422\u041e#blackstarwaer?\n",
        "1159514983 :  #betweenyouandme #placebo #mylove ?\u2764\ufe0f?\n",
        "1995680779 :  ....#placebomoscow #placebo\n"
       ]
      }
     ],
     "prompt_number": 417
    },
    {
     "cell_type": "code",
     "collapsed": false,
     "input": [
      "data[295]['is_event'] = True"
     ],
     "language": "python",
     "metadata": {},
     "outputs": [],
     "prompt_number": 412
    },
    {
     "cell_type": "code",
     "collapsed": false,
     "input": [
      "f = open(\"golden_standart_events.pkl\", \"wb\")"
     ],
     "language": "python",
     "metadata": {},
     "outputs": [],
     "prompt_number": 418
    },
    {
     "cell_type": "code",
     "collapsed": false,
     "input": [
      "pickle.dump(data, f)"
     ],
     "language": "python",
     "metadata": {},
     "outputs": [],
     "prompt_number": 419
    },
    {
     "cell_type": "code",
     "collapsed": false,
     "input": [
      "f.close()"
     ],
     "language": "python",
     "metadata": {},
     "outputs": [],
     "prompt_number": 420
    }
   ],
   "metadata": {}
  }
 ]
}